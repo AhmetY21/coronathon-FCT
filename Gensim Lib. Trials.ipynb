{
 "cells": [
  {
   "cell_type": "code",
   "execution_count": null,
   "metadata": {
    "collapsed": false
   },
   "outputs": [],
   "source": [
    "%matplotlib inline"
   ]
  },
  {
   "cell_type": "markdown",
   "metadata": {},
   "source": [
    "\n",
    "Text Summarization\n",
    "==================\n",
    "\n",
    "Demonstrates summarizing text by extracting the most important sentences from it.\n"
   ]
  },
  {
   "cell_type": "code",
   "execution_count": 5,
   "metadata": {
    "collapsed": false
   },
   "outputs": [
    {
     "name": "stderr",
     "output_type": "stream",
     "text": [
      "C:\\Users\\Public\\Anaconda3\\lib\\site-packages\\gensim\\utils.py:1197: UserWarning: detected Windows; aliasing chunkize to chunkize_serial\n",
      "  warnings.warn(\"detected Windows; aliasing chunkize to chunkize_serial\")\n"
     ]
    }
   ],
   "source": [
    "from pprint import pprint as print\n",
    "from gensim.summarization import summarize"
   ]
  },
  {
   "cell_type": "markdown",
   "metadata": {},
   "source": [
    "We will try summarizing a small toy example; later we will use a larger piece of text. In reality, the text is too small, but it suffices as an illustrative example.\n",
    "\n",
    "\n"
   ]
  },
  {
   "cell_type": "code",
   "execution_count": 30,
   "metadata": {
    "collapsed": false
   },
   "outputs": [
    {
     "name": "stdout",
     "output_type": "stream",
     "text": [
      "('Yapılan laboratuvar testi sonuçlarına göre kuşlarda herhangi bir zehirlenme '\n",
      " 'belirtisi ya da virüs tespit edilmemiş. Ölümlerin künt travma (vücut kısmına '\n",
      " 'darbe, yaralanma veya fiziksel saldırının neden olduğu travma) sonucu olduğu '\n",
      " 'belirtilmiş. Birleşik Krallık’a bağlı Hayvan ve Bitki Sağlığı Kurumu (APHA), '\n",
      " 'kuşların çevredeki asfalt veya çitlere hızlıca çarpmaları sonucu ölmüş '\n",
      " 'olabileceklerini söylemiş. Kuşlar üzerinde gerçekleştirilen viroloji, '\n",
      " 'bakteriyoloji ve histopatoloji test sonuçlarına göre, kuşlarda herhangi bir '\n",
      " 'kuş gribi riskine veya bulaşıcı bir hastalığa rastlanmadığı ifade '\n",
      " 'ediliyor.Soruşturmayı yürüten ekipte polis olarak görev yapan Rob Taylor '\n",
      " 'Twitter hesabı üzerinden kuşların ölme nedenine ilişkin açıklamalarda '\n",
      " 'bulunduğu bir video paylaşmış. Taylor açıklamasında olayın yırtıcı kuşlardan '\n",
      " 'veya şiddetli havadan kaçma esnasında gerçekleşmiş olabileceği ihtimali '\n",
      " 'üzerinde durulduğunu belirtmiş. Ayrıca Taylor, bu tarz vakaların daha önce '\n",
      " 'de yaşandığını dile getirmiş.')\n"
     ]
    }
   ],
   "source": [
    "text = (\n",
    "    \"Yapılan laboratuvar testi sonuçlarına göre kuşlarda herhangi bir zehirlenme belirtisi ya da virüs tespit edilmemiş. Ölümlerin künt travma (vücut kısmına darbe, yaralanma veya fiziksel saldırının neden olduğu travma) sonucu olduğu belirtilmiş. Birleşik Krallık’a bağlı Hayvan ve Bitki Sağlığı Kurumu (APHA), kuşların çevredeki asfalt veya çitlere hızlıca çarpmaları sonucu ölmüş olabileceklerini söylemiş. Kuşlar üzerinde gerçekleştirilen viroloji, bakteriyoloji ve histopatoloji test sonuçlarına göre, kuşlarda herhangi bir kuş gribi riskine veya bulaşıcı bir hastalığa rastlanmadığı ifade ediliyor.Soruşturmayı yürüten ekipte polis olarak görev yapan Rob Taylor Twitter hesabı üzerinden kuşların ölme nedenine ilişkin açıklamalarda bulunduğu bir video paylaşmış. Taylor açıklamasında olayın yırtıcı kuşlardan veya şiddetli havadan kaçma esnasında gerçekleşmiş olabileceği ihtimali üzerinde durulduğunu belirtmiş. Ayrıca Taylor, bu tarz vakaların daha önce de yaşandığını dile getirmiş.\"\n",
    ")\n",
    "print(text)"
   ]
  },
  {
   "cell_type": "markdown",
   "metadata": {},
   "source": [
    "To summarize this text, we pass the **raw string data** as input to the\n",
    "function \"summarize\", and it will return a summary.\n",
    "\n",
    "Note: make sure that the string does not contain any newlines where the line\n",
    "breaks in a sentence. A sentence with a newline in it (i.e. a carriage\n",
    "return, \"\\n\") will be treated as two sentences.\n",
    "\n",
    "\n"
   ]
  },
  {
   "cell_type": "code",
   "execution_count": 31,
   "metadata": {
    "collapsed": false
   },
   "outputs": [
    {
     "name": "stdout",
     "output_type": "stream",
     "text": [
      "('Kuşlar üzerinde gerçekleştirilen viroloji, bakteriyoloji ve histopatoloji '\n",
      " 'test sonuçlarına göre, kuşlarda herhangi bir kuş gribi riskine veya bulaşıcı '\n",
      " 'bir hastalığa rastlanmadığı ifade ediliyor.Soruşturmayı yürüten ekipte polis '\n",
      " 'olarak görev yapan Rob Taylor Twitter hesabı üzerinden kuşların ölme '\n",
      " 'nedenine ilişkin açıklamalarda bulunduğu bir video paylaşmış.')\n"
     ]
    }
   ],
   "source": [
    "print(summarize(text))"
   ]
  },
  {
   "cell_type": "markdown",
   "metadata": {},
   "source": [
    "Use the \"split\" option if you want a list of strings instead of a single string.\n",
    "\n",
    "\n"
   ]
  },
  {
   "cell_type": "code",
   "execution_count": 32,
   "metadata": {
    "collapsed": false
   },
   "outputs": [
    {
     "name": "stdout",
     "output_type": "stream",
     "text": [
      "['Kuşlar üzerinde gerçekleştirilen viroloji, bakteriyoloji ve histopatoloji '\n",
      " 'test sonuçlarına göre, kuşlarda herhangi bir kuş gribi riskine veya bulaşıcı '\n",
      " 'bir hastalığa rastlanmadığı ifade ediliyor.Soruşturmayı yürüten ekipte polis '\n",
      " 'olarak görev yapan Rob Taylor Twitter hesabı üzerinden kuşların ölme '\n",
      " 'nedenine ilişkin açıklamalarda bulunduğu bir video paylaşmış.']\n"
     ]
    }
   ],
   "source": [
    "print(summarize(text, split=True));"
   ]
  },
  {
   "cell_type": "markdown",
   "metadata": {},
   "source": [
    "You can adjust how much text the summarizer outputs via the \"ratio\" parameter\n",
    "or the \"word_count\" parameter. Using the \"ratio\" parameter, you specify what\n",
    "fraction of sentences in the original text should be returned as output.\n",
    "Below we specify that we want 50% of the original text (the default is 20%).\n",
    "\n",
    "\n"
   ]
  },
  {
   "cell_type": "code",
   "execution_count": 33,
   "metadata": {
    "collapsed": false
   },
   "outputs": [
    {
     "name": "stdout",
     "output_type": "stream",
     "text": [
      "('Yapılan laboratuvar testi sonuçlarına göre kuşlarda herhangi bir zehirlenme '\n",
      " 'belirtisi ya da virüs tespit edilmemiş.\\n'\n",
      " 'Birleşik Krallık’a bağlı Hayvan ve Bitki Sağlığı Kurumu (APHA), kuşların '\n",
      " 'çevredeki asfalt veya çitlere hızlıca çarpmaları sonucu ölmüş '\n",
      " 'olabileceklerini söylemiş.\\n'\n",
      " 'Kuşlar üzerinde gerçekleştirilen viroloji, bakteriyoloji ve histopatoloji '\n",
      " 'test sonuçlarına göre, kuşlarda herhangi bir kuş gribi riskine veya bulaşıcı '\n",
      " 'bir hastalığa rastlanmadığı ifade ediliyor.Soruşturmayı yürüten ekipte polis '\n",
      " 'olarak görev yapan Rob Taylor Twitter hesabı üzerinden kuşların ölme '\n",
      " 'nedenine ilişkin açıklamalarda bulunduğu bir video paylaşmış.')\n"
     ]
    }
   ],
   "source": [
    "print(summarize(text, ratio=0.5))"
   ]
  },
  {
   "cell_type": "markdown",
   "metadata": {},
   "source": [
    "Using the \"word_count\" parameter, we specify the maximum amount of words we\n",
    "want in the summary. Below we have specified that we want no more than 50\n",
    "words.\n",
    "\n",
    "\n"
   ]
  },
  {
   "cell_type": "markdown",
   "metadata": {},
   "source": [
    "As mentioned earlier, this module also supports **keyword** extraction.\n",
    "Keyword extraction works in the same way as summary generation (i.e. sentence\n",
    "extraction), in that the algorithm tries to find words that are important or\n",
    "seem representative of the entire text. They keywords are not always single\n",
    "words; in the case of multi-word keywords, they are typically all nouns.\n",
    "\n",
    "\n"
   ]
  },
  {
   "cell_type": "code",
   "execution_count": 35,
   "metadata": {
    "collapsed": false
   },
   "outputs": [
    {
     "name": "stdout",
     "output_type": "stream",
     "text": [
      "('veya\\n'\n",
      " 'bir\\n'\n",
      " 'taylor\\n'\n",
      " 'uzerinde\\n'\n",
      " 'kusların\\n'\n",
      " 'oldugu\\n'\n",
      " 'travma\\n'\n",
      " 'sonucu\\n'\n",
      " 'sonuclarına\\n'\n",
      " 'dile\\n'\n",
      " 'vakaların\\n'\n",
      " 'tespit\\n'\n",
      " 'saglıgı\\n'\n",
      " 'laboratuvar testi\\n'\n",
      " 'viroloji\\n'\n",
      " 'test\\n'\n",
      " 'birlesik\\n'\n",
      " 'edilmemis')\n"
     ]
    }
   ],
   "source": [
    "from gensim.summarization import keywords\n",
    "print(keywords(text))"
   ]
  },
  {
   "cell_type": "code",
   "execution_count": 37,
   "metadata": {
    "collapsed": true
   },
   "outputs": [],
   "source": [
    "from collections import defaultdict\n",
    "from gensim import corpora\n",
    "\n",
    "documents = [\"Yapılan laboratuvar testi sonuçlarına göre kuşlarda herhangi bir zehirlenme belirtisi ya da virüs tespit edilmemiş. Ölümlerin künt travma (vücut kısmına darbe, yaralanma veya fiziksel saldırının neden olduğu travma) sonucu olduğu belirtilmiş. Birleşik Krallık’a bağlı Hayvan ve Bitki Sağlığı Kurumu (APHA), kuşların çevredeki asfalt veya çitlere hızlıca çarpmaları sonucu ölmüş olabileceklerini söylemiş. Kuşlar üzerinde gerçekleştirilen viroloji, bakteriyoloji ve histopatoloji test sonuçlarına göre, kuşlarda herhangi bir kuş gribi riskine veya bulaşıcı bir hastalığa rastlanmadığı ifade ediliyor.Soruşturmayı yürüten ekipte polis olarak görev yapan Rob Taylor Twitter hesabı üzerinden kuşların ölme nedenine ilişkin açıklamalarda bulunduğu bir video paylaşmış. Taylor açıklamasında olayın yırtıcı kuşlardan veya şiddetli havadan kaçma esnasında gerçekleşmiş olabileceği ihtimali üzerinde durulduğunu belirtmiş. Ayrıca Taylor, bu tarz vakaların daha önce de yaşandığını dile getirmiş.\"\n",
    "]  \n",
    "\n",
    "# remove common words and tokenize\n",
    "stoplist = set('de da gibi veya ve  gore'.split())\n",
    "texts = [\n",
    "    [word for word in document.lower().split() if word not in stoplist]\n",
    "    for document in documents\n",
    "]\n",
    "\n",
    "# remove words that appear only once\n",
    "frequency = defaultdict(int)\n",
    "for text in texts:\n",
    "    for token in text:\n",
    "        frequency[token] += 1\n",
    "\n",
    "texts = [\n",
    "    [token for token in text if frequency[token] > 1]\n",
    "    for text in texts\n",
    "]\n",
    "\n",
    "dictionary = corpora.Dictionary(texts)\n",
    "corpus = [dictionary.doc2bow(text) for text in texts]"
   ]
  },
  {
   "cell_type": "code",
   "execution_count": 38,
   "metadata": {
    "collapsed": true
   },
   "outputs": [],
   "source": [
    "from gensim import models\n",
    "lsi = models.LsiModel(corpus, id2word=dictionary, num_topics=2)"
   ]
  },
  {
   "cell_type": "code",
   "execution_count": 39,
   "metadata": {
    "collapsed": false
   },
   "outputs": [
    {
     "name": "stdout",
     "output_type": "stream",
     "text": [
      "[(0, 6.9282032302755105)]\n"
     ]
    }
   ],
   "source": [
    "doc = \"Yapılan laboratuvar testi sonuçlarına göre kuşlarda herhangi bir zehirlenme belirtisi ya da virüs tespit edilmemiş. Ölümlerin künt travma (vücut kısmına darbe, yaralanma veya fiziksel saldırının neden olduğu travma) sonucu olduğu belirtilmiş. Birleşik Krallık’a bağlı Hayvan ve Bitki Sağlığı Kurumu (APHA), kuşların çevredeki asfalt veya çitlere hızlıca çarpmaları sonucu ölmüş olabileceklerini söylemiş. Kuşlar üzerinde gerçekleştirilen viroloji, bakteriyoloji ve histopatoloji test sonuçlarına göre, kuşlarda herhangi bir kuş gribi riskine veya bulaşıcı bir hastalığa rastlanmadığı ifade ediliyor.Soruşturmayı yürüten ekipte polis olarak görev yapan Rob Taylor Twitter hesabı üzerinden kuşların ölme nedenine ilişkin açıklamalarda bulunduğu bir video paylaşmış. Taylor açıklamasında olayın yırtıcı kuşlardan veya şiddetli havadan kaçma esnasında gerçekleşmiş olabileceği ihtimali üzerinde durulduğunu belirtmiş. Ayrıca Taylor, bu tarz vakaların daha önce de yaşandığını dile getirmiş.\"\n",
    "vec_bow = dictionary.doc2bow(doc.lower().split())\n",
    "vec_lsi = lsi[vec_bow]  # convert the query to LSI space\n",
    "print(vec_lsi)"
   ]
  }
 ],
 "metadata": {
  "anaconda-cloud": {},
  "kernelspec": {
   "display_name": "Python [default]",
   "language": "python",
   "name": "python3"
  },
  "language_info": {
   "codemirror_mode": {
    "name": "ipython",
    "version": 3
   },
   "file_extension": ".py",
   "mimetype": "text/x-python",
   "name": "python",
   "nbconvert_exporter": "python",
   "pygments_lexer": "ipython3",
   "version": "3.5.6"
  }
 },
 "nbformat": 4,
 "nbformat_minor": 0
}
